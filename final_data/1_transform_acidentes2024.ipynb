{
 "cells": [
  {
   "cell_type": "code",
   "execution_count": 15,
   "metadata": {},
   "outputs": [
    {
     "name": "stdout",
     "output_type": "stream",
     "text": [
      "Nomes das colunas:\n",
      "Index(['Protocolo', 'data', 'hora', 'natureza', 'situacao', 'bairro',\n",
      "       'endereco', 'numero', 'detalhe_endereco_acidente', 'complemento',\n",
      "       'bairro_cruzamento', 'num_semaforo', 'sentido_via', 'tipo', 'auto',\n",
      "       'moto', 'ciclom', 'ciclista', 'pedestre', 'onibus', 'caminhao',\n",
      "       'viatura', 'outros', 'vitimas', 'vitimasfatais', 'acidente_verificado',\n",
      "       'tempo_clima', 'situacao_semaforo', 'sinalizacao', 'condicao_via',\n",
      "       'conservacao_via', 'ponto_controle', 'situacao_placa',\n",
      "       'velocidade_max_via', 'mao_direcao', 'divisao_via1', 'divisao_via2',\n",
      "       'divisao_via3'],\n",
      "      dtype='object')\n",
      "\n",
      "As 5 primeiras linhas do DataFrame:\n",
      "  Protocolo        data      hora    natureza    situacao         bairro  \\\n",
      "0  292972,0  2024-01-01  06:05:00  COM VÍTIMA  FINALIZADA  VASCO DA GAMA   \n",
      "1  292973,0  2024-01-01  09:14:00  COM VÍTIMA  FINALIZADA  VASCO DA GAMA   \n",
      "2  292974,0  2024-01-01  10:31:00  COM VÍTIMA  FINALIZADA  VASCO DA GAMA   \n",
      "3  292980,0  2024-01-01  04:11:00  COM VÍTIMA  FINALIZADA         ARRUDA   \n",
      "4  292985,0  2024-01-01  06:53:00  COM VÍTIMA  FINALIZADA     BOA VIAGEM   \n",
      "\n",
      "                            endereco numero  \\\n",
      "0  AV NORTE MIGUEL ARRAES DE ALENCAR    NaN   \n",
      "1                  RUA VASCO DA GAMA   1353   \n",
      "2             RUA ALTO TREZE DE MAIO    290   \n",
      "3        AV PROFESSOR JOSE DOS ANJOS    NaN   \n",
      "4              AV CONSELHEIRO AGUIAR   1672   \n",
      "\n",
      "           detalhe_endereco_acidente  \\\n",
      "0                                NaN   \n",
      "1                                NaN   \n",
      "2                                NaN   \n",
      "3  AV NORTE MIGUEL ARRAES DE ALENCAR   \n",
      "4              RUA PADRE CARAPUCEIRO   \n",
      "\n",
      "                                       complemento  ... sinalizacao  \\\n",
      "0      E/F A IGREJA QUADRANGULAR SENTIDO MACAXEIRA  ...         NaN   \n",
      "1  APOS A DELIGACIA DO VASCO // MERCEARIA DO BIBIO  ...         NaN   \n",
      "2                                DEPOIS DA COMPESA  ...         NaN   \n",
      "3                                              NaN  ...         NaN   \n",
      "4    EM FRENTE A PURO AÇAI E PROXIMO AO VERDE FRUT  ...         NaN   \n",
      "\n",
      "  condicao_via conservacao_via ponto_controle situacao_placa  \\\n",
      "0          NaN             NaN            NaN            NaN   \n",
      "1          NaN             NaN            NaN            NaN   \n",
      "2          NaN             NaN            NaN            NaN   \n",
      "3          NaN             NaN            NaN            NaN   \n",
      "4          NaN             NaN            NaN            NaN   \n",
      "\n",
      "  velocidade_max_via mao_direcao divisao_via1 divisao_via2 divisao_via3  \n",
      "0                NaN         NaN          NaN          NaN          NaN  \n",
      "1                NaN         NaN          NaN          NaN          NaN  \n",
      "2                NaN         NaN          NaN          NaN          NaN  \n",
      "3                NaN         NaN          NaN          NaN          NaN  \n",
      "4                NaN         NaN          NaN          NaN          NaN  \n",
      "\n",
      "[5 rows x 38 columns]\n"
     ]
    }
   ],
   "source": [
    "import pandas as pd\n",
    "\n",
    "caminho_csv = '../raw_data/acidentes2024.csv'\n",
    "\n",
    "# Carregar o arquivo CSV especificando o delimitador correto\n",
    "df_acidentes2024 = pd.read_csv(caminho_csv, delimiter=';', engine='python', on_bad_lines='skip')\n",
    "\n",
    "# Exibir os nomes das colunas\n",
    "print(\"Nomes das colunas:\")\n",
    "print(df_acidentes2024.columns)\n",
    "\n",
    "# Exibir as 5 primeiras linhas do DataFrame\n",
    "print(\"\\nAs 5 primeiras linhas do DataFrame:\")\n",
    "print(df_acidentes2024.head())\n"
   ]
  },
  {
   "cell_type": "code",
   "execution_count": null,
   "metadata": {},
   "outputs": [],
   "source": []
  }
 ],
 "metadata": {
  "kernelspec": {
   "display_name": ".venv",
   "language": "python",
   "name": "python3"
  },
  "language_info": {
   "codemirror_mode": {
    "name": "ipython",
    "version": 3
   },
   "file_extension": ".py",
   "mimetype": "text/x-python",
   "name": "python",
   "nbconvert_exporter": "python",
   "pygments_lexer": "ipython3",
   "version": "3.10.16"
  }
 },
 "nbformat": 4,
 "nbformat_minor": 2
}
